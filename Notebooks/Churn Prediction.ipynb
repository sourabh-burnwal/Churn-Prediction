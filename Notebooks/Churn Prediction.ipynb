{
 "cells": [
  {
   "cell_type": "markdown",
   "metadata": {},
   "source": [
    "### Churn Modelling EDA "
   ]
  },
  {
   "cell_type": "code",
   "execution_count": 1,
   "metadata": {},
   "outputs": [],
   "source": [
    "# Import the required modules\n",
    "\n",
    "import warnings\n",
    "warnings.simplefilter(action='ignore', category=FutureWarning)\n",
    "import numpy as np\n",
    "import pandas as pd\n",
    "import seaborn as sns\n",
    "import matplotlib.pyplot as plt\n",
    "\n",
    "from sklearn.model_selection import RandomizedSearchCV\n",
    "import xgboost\n",
    "\n",
    "from sklearn.model_selection import cross_val_score"
   ]
  },
  {
   "cell_type": "code",
   "execution_count": 2,
   "metadata": {},
   "outputs": [
    {
     "data": {
      "text/html": [
       "<div>\n",
       "<style scoped>\n",
       "    .dataframe tbody tr th:only-of-type {\n",
       "        vertical-align: middle;\n",
       "    }\n",
       "\n",
       "    .dataframe tbody tr th {\n",
       "        vertical-align: top;\n",
       "    }\n",
       "\n",
       "    .dataframe thead th {\n",
       "        text-align: right;\n",
       "    }\n",
       "</style>\n",
       "<table border=\"1\" class=\"dataframe\">\n",
       "  <thead>\n",
       "    <tr style=\"text-align: right;\">\n",
       "      <th></th>\n",
       "      <th>RowNumber</th>\n",
       "      <th>CustomerId</th>\n",
       "      <th>Surname</th>\n",
       "      <th>CreditScore</th>\n",
       "      <th>Geography</th>\n",
       "      <th>Gender</th>\n",
       "      <th>Age</th>\n",
       "      <th>Tenure</th>\n",
       "      <th>Balance</th>\n",
       "      <th>NumOfProducts</th>\n",
       "      <th>HasCrCard</th>\n",
       "      <th>IsActiveMember</th>\n",
       "      <th>EstimatedSalary</th>\n",
       "      <th>Exited</th>\n",
       "    </tr>\n",
       "  </thead>\n",
       "  <tbody>\n",
       "    <tr>\n",
       "      <th>0</th>\n",
       "      <td>1</td>\n",
       "      <td>15634602</td>\n",
       "      <td>Hargrave</td>\n",
       "      <td>619</td>\n",
       "      <td>France</td>\n",
       "      <td>Female</td>\n",
       "      <td>42</td>\n",
       "      <td>2</td>\n",
       "      <td>0.00</td>\n",
       "      <td>1</td>\n",
       "      <td>1</td>\n",
       "      <td>1</td>\n",
       "      <td>101348.88</td>\n",
       "      <td>1</td>\n",
       "    </tr>\n",
       "    <tr>\n",
       "      <th>1</th>\n",
       "      <td>2</td>\n",
       "      <td>15647311</td>\n",
       "      <td>Hill</td>\n",
       "      <td>608</td>\n",
       "      <td>Spain</td>\n",
       "      <td>Female</td>\n",
       "      <td>41</td>\n",
       "      <td>1</td>\n",
       "      <td>83807.86</td>\n",
       "      <td>1</td>\n",
       "      <td>0</td>\n",
       "      <td>1</td>\n",
       "      <td>112542.58</td>\n",
       "      <td>0</td>\n",
       "    </tr>\n",
       "    <tr>\n",
       "      <th>2</th>\n",
       "      <td>3</td>\n",
       "      <td>15619304</td>\n",
       "      <td>Onio</td>\n",
       "      <td>502</td>\n",
       "      <td>France</td>\n",
       "      <td>Female</td>\n",
       "      <td>42</td>\n",
       "      <td>8</td>\n",
       "      <td>159660.80</td>\n",
       "      <td>3</td>\n",
       "      <td>1</td>\n",
       "      <td>0</td>\n",
       "      <td>113931.57</td>\n",
       "      <td>1</td>\n",
       "    </tr>\n",
       "    <tr>\n",
       "      <th>3</th>\n",
       "      <td>4</td>\n",
       "      <td>15701354</td>\n",
       "      <td>Boni</td>\n",
       "      <td>699</td>\n",
       "      <td>France</td>\n",
       "      <td>Female</td>\n",
       "      <td>39</td>\n",
       "      <td>1</td>\n",
       "      <td>0.00</td>\n",
       "      <td>2</td>\n",
       "      <td>0</td>\n",
       "      <td>0</td>\n",
       "      <td>93826.63</td>\n",
       "      <td>0</td>\n",
       "    </tr>\n",
       "    <tr>\n",
       "      <th>4</th>\n",
       "      <td>5</td>\n",
       "      <td>15737888</td>\n",
       "      <td>Mitchell</td>\n",
       "      <td>850</td>\n",
       "      <td>Spain</td>\n",
       "      <td>Female</td>\n",
       "      <td>43</td>\n",
       "      <td>2</td>\n",
       "      <td>125510.82</td>\n",
       "      <td>1</td>\n",
       "      <td>1</td>\n",
       "      <td>1</td>\n",
       "      <td>79084.10</td>\n",
       "      <td>0</td>\n",
       "    </tr>\n",
       "  </tbody>\n",
       "</table>\n",
       "</div>"
      ],
      "text/plain": [
       "   RowNumber  CustomerId   Surname  CreditScore Geography  Gender  Age  \\\n",
       "0          1    15634602  Hargrave          619    France  Female   42   \n",
       "1          2    15647311      Hill          608     Spain  Female   41   \n",
       "2          3    15619304      Onio          502    France  Female   42   \n",
       "3          4    15701354      Boni          699    France  Female   39   \n",
       "4          5    15737888  Mitchell          850     Spain  Female   43   \n",
       "\n",
       "   Tenure    Balance  NumOfProducts  HasCrCard  IsActiveMember  \\\n",
       "0       2       0.00              1          1               1   \n",
       "1       1   83807.86              1          0               1   \n",
       "2       8  159660.80              3          1               0   \n",
       "3       1       0.00              2          0               0   \n",
       "4       2  125510.82              1          1               1   \n",
       "\n",
       "   EstimatedSalary  Exited  \n",
       "0        101348.88       1  \n",
       "1        112542.58       0  \n",
       "2        113931.57       1  \n",
       "3         93826.63       0  \n",
       "4         79084.10       0  "
      ]
     },
     "execution_count": 2,
     "metadata": {},
     "output_type": "execute_result"
    }
   ],
   "source": [
    "dtset = pd.read_csv('../datasets/Churn_Modelling.csv')\n",
    "dtset.head()"
   ]
  },
  {
   "cell_type": "code",
   "execution_count": 3,
   "metadata": {},
   "outputs": [
    {
     "data": {
      "text/plain": [
       "RowNumber          0\n",
       "CustomerId         0\n",
       "Surname            0\n",
       "CreditScore        0\n",
       "Geography          0\n",
       "Gender             0\n",
       "Age                0\n",
       "Tenure             0\n",
       "Balance            0\n",
       "NumOfProducts      0\n",
       "HasCrCard          0\n",
       "IsActiveMember     0\n",
       "EstimatedSalary    0\n",
       "Exited             0\n",
       "dtype: int64"
      ]
     },
     "execution_count": 3,
     "metadata": {},
     "output_type": "execute_result"
    }
   ],
   "source": [
    "# Let's check for missing values if any\n",
    "\n",
    "dtset.isnull().sum()"
   ]
  },
  {
   "cell_type": "code",
   "execution_count": 4,
   "metadata": {},
   "outputs": [
    {
     "name": "stdout",
     "output_type": "stream",
     "text": [
      "<class 'pandas.core.frame.DataFrame'>\n",
      "RangeIndex: 10000 entries, 0 to 9999\n",
      "Data columns (total 14 columns):\n",
      " #   Column           Non-Null Count  Dtype  \n",
      "---  ------           --------------  -----  \n",
      " 0   RowNumber        10000 non-null  int64  \n",
      " 1   CustomerId       10000 non-null  int64  \n",
      " 2   Surname          10000 non-null  object \n",
      " 3   CreditScore      10000 non-null  int64  \n",
      " 4   Geography        10000 non-null  object \n",
      " 5   Gender           10000 non-null  object \n",
      " 6   Age              10000 non-null  int64  \n",
      " 7   Tenure           10000 non-null  int64  \n",
      " 8   Balance          10000 non-null  float64\n",
      " 9   NumOfProducts    10000 non-null  int64  \n",
      " 10  HasCrCard        10000 non-null  int64  \n",
      " 11  IsActiveMember   10000 non-null  int64  \n",
      " 12  EstimatedSalary  10000 non-null  float64\n",
      " 13  Exited           10000 non-null  int64  \n",
      "dtypes: float64(2), int64(9), object(3)\n",
      "memory usage: 1.1+ MB\n"
     ]
    }
   ],
   "source": [
    "dtset.info()"
   ]
  },
  {
   "cell_type": "markdown",
   "metadata": {},
   "source": [
    "Dataset looks good to go"
   ]
  },
  {
   "cell_type": "code",
   "execution_count": 5,
   "metadata": {},
   "outputs": [],
   "source": [
    "# Get dummy variables for the categorical features\n",
    "\n",
    "geography = pd.get_dummies(dtset['Geography'], drop_first=True)\n",
    "gender = pd.get_dummies(dtset['Gender'], drop_first=True)"
   ]
  },
  {
   "cell_type": "code",
   "execution_count": 6,
   "metadata": {},
   "outputs": [
    {
     "data": {
      "text/plain": [
       "Text(0.5, 1.0, 'Number of Exited (0 for No, 1 for Yes)')"
      ]
     },
     "execution_count": 6,
     "metadata": {},
     "output_type": "execute_result"
    },
    {
     "data": {
      "image/png": "[encoded data removed]",
      "text/plain": [
       "<Figure size 432x288 with 1 Axes>"
      ]
     },
     "metadata": {
      "needs_background": "light"
     },
     "output_type": "display_data"
    }
   ],
   "source": [
    "# Compare the number of Exited and number of people who didn't \n",
    "\n",
    "sns.countplot(y='Exited', data=dtset)\n",
    "plt.title('Number of Exited (0 for No, 1 for Yes)')"
   ]
  },
  {
   "cell_type": "code",
   "execution_count": 7,
   "metadata": {},
   "outputs": [
    {
     "name": "stdout",
     "output_type": "stream",
     "text": [
      "0 : 79.63, 1 : 20.369999999999997\n"
     ]
    }
   ],
   "source": [
    "# Check the percentage to check if the data is imbalanced\n",
    "\n",
    "n_0 = dtset[dtset['Exited'] == 0].shape[0]\n",
    "n_1 = dtset[dtset['Exited'] == 1].shape[0]\n",
    "percentg_0 = n_0/len(dtset['Exited']) * 100.0\n",
    "percentg_1 = n_1/len(dtset['Exited']) * 100.0\n",
    "print(\"0 : {}, 1 : {}\".format(percentg_0, percentg_1))"
   ]
  },
  {
   "cell_type": "markdown",
   "metadata": {},
   "source": [
    "Data won't be called imbalanced"
   ]
  },
  {
   "cell_type": "code",
   "execution_count": 8,
   "metadata": {},
   "outputs": [
    {
     "data": {
      "text/plain": [
       "Text(0, 0.5, 'Has a Credit Card')"
      ]
     },
     "execution_count": 8,
     "metadata": {},
     "output_type": "execute_result"
    },
    {
     "data": {
      "image/png": "[encoded data removed]",
      "text/plain": [
       "<Figure size 432x288 with 1 Axes>"
      ]
     },
     "metadata": {
      "needs_background": "light"
     },
     "output_type": "display_data"
    }
   ],
   "source": [
    "sns.countplot(y='HasCrCard', data=dtset, hue='Exited')\n",
    "plt.ylabel('Has a Credit Card')"
   ]
  },
  {
   "cell_type": "code",
   "execution_count": 9,
   "metadata": {},
   "outputs": [
    {
     "data": {
      "text/plain": [
       "<AxesSubplot:xlabel='count', ylabel='NumOfProducts'>"
      ]
     },
     "execution_count": 9,
     "metadata": {},
     "output_type": "execute_result"
    },
    {
     "data": {
      "image/png": "[encoded data removed]",
      "text/plain": [
       "<Figure size 432x288 with 1 Axes>"
      ]
     },
     "metadata": {
      "needs_background": "light"
     },
     "output_type": "display_data"
    }
   ],
   "source": [
    "sns.countplot(y='NumOfProducts', data=dtset, hue='Exited')"
   ]
  },
  {
   "cell_type": "markdown",
   "metadata": {},
   "source": [
    "So, if the number of products are more than 2. They are most likely to churn."
   ]
  },
  {
   "cell_type": "code",
   "execution_count": 10,
   "metadata": {},
   "outputs": [],
   "source": [
    "def numeric_hist(feature, kde, hist):\n",
    "    plt.figure(figsize=(8,5))\n",
    "    ax0 = sns.distplot(dtset[dtset['Exited']==0][feature], kde=kde, hist=hist, kde_kws={'linewidth':3}, label='Churn: No')\n",
    "    ax1 = sns.distplot(dtset[dtset['Exited']==1][feature], kde=kde, hist=hist, kde_kws={'linewidth':3}, label='Churn: Yes')\n",
    "    plt.legend()"
   ]
  },
  {
   "cell_type": "code",
   "execution_count": 11,
   "metadata": {},
   "outputs": [
    {
     "data": {
      "image/png": "[encoded data removed]",
      "text/plain": [
       "<Figure size 576x360 with 1 Axes>"
      ]
     },
     "metadata": {
      "needs_background": "light"
     },
     "output_type": "display_data"
    }
   ],
   "source": [
    "numeric_hist('CreditScore', True, False)"
   ]
  },
  {
   "cell_type": "code",
   "execution_count": 12,
   "metadata": {},
   "outputs": [
    {
     "data": {
      "image/png": "[encoded data removed]",
      "text/plain": [
       "<Figure size 576x360 with 1 Axes>"
      ]
     },
     "metadata": {
      "needs_background": "light"
     },
     "output_type": "display_data"
    }
   ],
   "source": [
    "numeric_hist('Age', True, True)"
   ]
  },
  {
   "cell_type": "markdown",
   "metadata": {},
   "source": [
    "Middle aged people are more likely to churn than the people in their 30s."
   ]
  },
  {
   "cell_type": "code",
   "execution_count": 13,
   "metadata": {},
   "outputs": [
    {
     "data": {
      "image/png": "[encoded data removed]",
      "text/plain": [
       "<Figure size 576x360 with 1 Axes>"
      ]
     },
     "metadata": {
      "needs_background": "light"
     },
     "output_type": "display_data"
    }
   ],
   "source": [
    "numeric_hist('Tenure', True, False)"
   ]
  },
  {
   "cell_type": "code",
   "execution_count": 14,
   "metadata": {},
   "outputs": [
    {
     "data": {
      "image/png": "[encoded data removed]",
      "text/plain": [
       "<Figure size 576x360 with 1 Axes>"
      ]
     },
     "metadata": {
      "needs_background": "light"
     },
     "output_type": "display_data"
    }
   ],
   "source": [
    "numeric_hist('Balance', True, False)"
   ]
  },
  {
   "cell_type": "markdown",
   "metadata": {},
   "source": [
    "It's strange that the ones having the balance between 100,000 and 150,000 are more likely to churn. "
   ]
  },
  {
   "cell_type": "code",
   "execution_count": 15,
   "metadata": {},
   "outputs": [],
   "source": [
    "# Dropping the columns we won't need\n",
    "\n",
    "dtset.drop(['RowNumber', 'CustomerId', 'Surname'], inplace=True, axis=1)"
   ]
  },
  {
   "cell_type": "code",
   "execution_count": 16,
   "metadata": {},
   "outputs": [],
   "source": [
    "# Concatenate the dummy gender and geography feature dataframes\n",
    "\n",
    "X = dtset.iloc[:,:-1]\n",
    "y = dtset.iloc[:,-1]\n",
    "X = pd.concat([X, gender, geography], axis=1)\n",
    "X.drop(['Gender', 'Geography'], axis=1, inplace=True)"
   ]
  },
  {
   "cell_type": "code",
   "execution_count": 17,
   "metadata": {},
   "outputs": [
    {
     "data": {
      "text/html": [
       "<div>\n",
       "<style scoped>\n",
       "    .dataframe tbody tr th:only-of-type {\n",
       "        vertical-align: middle;\n",
       "    }\n",
       "\n",
       "    .dataframe tbody tr th {\n",
       "        vertical-align: top;\n",
       "    }\n",
       "\n",
       "    .dataframe thead th {\n",
       "        text-align: right;\n",
       "    }\n",
       "</style>\n",
       "<table border=\"1\" class=\"dataframe\">\n",
       "  <thead>\n",
       "    <tr style=\"text-align: right;\">\n",
       "      <th></th>\n",
       "      <th>CreditScore</th>\n",
       "      <th>Age</th>\n",
       "      <th>Tenure</th>\n",
       "      <th>Balance</th>\n",
       "      <th>NumOfProducts</th>\n",
       "      <th>HasCrCard</th>\n",
       "      <th>IsActiveMember</th>\n",
       "      <th>EstimatedSalary</th>\n",
       "      <th>Male</th>\n",
       "      <th>Germany</th>\n",
       "      <th>Spain</th>\n",
       "    </tr>\n",
       "  </thead>\n",
       "  <tbody>\n",
       "    <tr>\n",
       "      <th>0</th>\n",
       "      <td>619</td>\n",
       "      <td>42</td>\n",
       "      <td>2</td>\n",
       "      <td>0.00</td>\n",
       "      <td>1</td>\n",
       "      <td>1</td>\n",
       "      <td>1</td>\n",
       "      <td>101348.88</td>\n",
       "      <td>0</td>\n",
       "      <td>0</td>\n",
       "      <td>0</td>\n",
       "    </tr>\n",
       "    <tr>\n",
       "      <th>1</th>\n",
       "      <td>608</td>\n",
       "      <td>41</td>\n",
       "      <td>1</td>\n",
       "      <td>83807.86</td>\n",
       "      <td>1</td>\n",
       "      <td>0</td>\n",
       "      <td>1</td>\n",
       "      <td>112542.58</td>\n",
       "      <td>0</td>\n",
       "      <td>0</td>\n",
       "      <td>1</td>\n",
       "    </tr>\n",
       "    <tr>\n",
       "      <th>2</th>\n",
       "      <td>502</td>\n",
       "      <td>42</td>\n",
       "      <td>8</td>\n",
       "      <td>159660.80</td>\n",
       "      <td>3</td>\n",
       "      <td>1</td>\n",
       "      <td>0</td>\n",
       "      <td>113931.57</td>\n",
       "      <td>0</td>\n",
       "      <td>0</td>\n",
       "      <td>0</td>\n",
       "    </tr>\n",
       "    <tr>\n",
       "      <th>3</th>\n",
       "      <td>699</td>\n",
       "      <td>39</td>\n",
       "      <td>1</td>\n",
       "      <td>0.00</td>\n",
       "      <td>2</td>\n",
       "      <td>0</td>\n",
       "      <td>0</td>\n",
       "      <td>93826.63</td>\n",
       "      <td>0</td>\n",
       "      <td>0</td>\n",
       "      <td>0</td>\n",
       "    </tr>\n",
       "    <tr>\n",
       "      <th>4</th>\n",
       "      <td>850</td>\n",
       "      <td>43</td>\n",
       "      <td>2</td>\n",
       "      <td>125510.82</td>\n",
       "      <td>1</td>\n",
       "      <td>1</td>\n",
       "      <td>1</td>\n",
       "      <td>79084.10</td>\n",
       "      <td>0</td>\n",
       "      <td>0</td>\n",
       "      <td>1</td>\n",
       "    </tr>\n",
       "  </tbody>\n",
       "</table>\n",
       "</div>"
      ],
      "text/plain": [
       "   CreditScore  Age  Tenure    Balance  NumOfProducts  HasCrCard  \\\n",
       "0          619   42       2       0.00              1          1   \n",
       "1          608   41       1   83807.86              1          0   \n",
       "2          502   42       8  159660.80              3          1   \n",
       "3          699   39       1       0.00              2          0   \n",
       "4          850   43       2  125510.82              1          1   \n",
       "\n",
       "   IsActiveMember  EstimatedSalary  Male  Germany  Spain  \n",
       "0               1        101348.88     0        0      0  \n",
       "1               1        112542.58     0        0      1  \n",
       "2               0        113931.57     0        0      0  \n",
       "3               0         93826.63     0        0      0  \n",
       "4               1         79084.10     0        0      1  "
      ]
     },
     "execution_count": 17,
     "metadata": {},
     "output_type": "execute_result"
    }
   ],
   "source": [
    "X.head()"
   ]
  },
  {
   "cell_type": "markdown",
   "metadata": {},
   "source": [
    "### XGBoost implementation   "
   ]
  },
  {
   "cell_type": "code",
   "execution_count": 18,
   "metadata": {},
   "outputs": [],
   "source": [
    "# define the hyperparameters\n",
    "\n",
    "params = {\n",
    "    'max_depth':[4,5,6,7,8,9,10,11,12,13,14],\n",
    "    'learning_rate':[1e-3, 1e-2, 1e-1, 2e-2, 2e-1, 3e-2, 3e-1, 4e-2, 4e-1],\n",
    "    'min_child_weight':[1,3,5,7,9],\n",
    "    'gamma':[0.0, 1e-1, 2e-1, 3e-1],\n",
    "    'colsample_bytree':[0.1,0.3,0.5,0.7]\n",
    "}"
   ]
  },
  {
   "cell_type": "code",
   "execution_count": 19,
   "metadata": {},
   "outputs": [],
   "source": [
    "xgbst = xgboost.XGBClassifier()"
   ]
  },
  {
   "cell_type": "code",
   "execution_count": 20,
   "metadata": {},
   "outputs": [],
   "source": [
    "model = RandomizedSearchCV(xgbst, param_distributions=params, n_iter=5, scoring=\"roc_auc\", n_jobs=-1, cv=5, verbose=3)"
   ]
  },
  {
   "cell_type": "code",
   "execution_count": 21,
   "metadata": {},
   "outputs": [
    {
     "name": "stdout",
     "output_type": "stream",
     "text": [
      "Fitting 5 folds for each of 5 candidates, totalling 25 fits\n"
     ]
    },
    {
     "name": "stderr",
     "output_type": "stream",
     "text": [
      "[Parallel(n_jobs=-1)]: Using backend LokyBackend with 12 concurrent workers.\n",
      "[Parallel(n_jobs=-1)]: Done  11 out of  25 | elapsed:    4.7s remaining:    5.9s\n",
      "[Parallel(n_jobs=-1)]: Done  20 out of  25 | elapsed:    5.5s remaining:    1.3s\n",
      "[Parallel(n_jobs=-1)]: Done  25 out of  25 | elapsed:    5.6s finished\n"
     ]
    },
    {
     "data": {
      "text/plain": [
       "RandomizedSearchCV(cv=5,\n",
       "                   estimator=XGBClassifier(base_score=None, booster=None,\n",
       "                                           colsample_bylevel=None,\n",
       "                                           colsample_bynode=None,\n",
       "                                           colsample_bytree=None, gamma=None,\n",
       "                                           gpu_id=None, importance_type='gain',\n",
       "                                           interaction_constraints=None,\n",
       "                                           learning_rate=None,\n",
       "                                           max_delta_step=None, max_depth=None,\n",
       "                                           min_child_weight=None, missing=nan,\n",
       "                                           monotone_constraints=None,\n",
       "                                           n_estimators=100,...\n",
       "                                           scale_pos_weight=None,\n",
       "                                           subsample=None, tree_method=None,\n",
       "                                           validate_parameters=None,\n",
       "                                           verbosity=None),\n",
       "                   n_iter=5, n_jobs=-1,\n",
       "                   param_distributions={'colsample_bytree': [0.1, 0.3, 0.5,\n",
       "                                                             0.7],\n",
       "                                        'gamma': [0.0, 0.1, 0.2, 0.3],\n",
       "                                        'learning_rate': [0.001, 0.01, 0.1,\n",
       "                                                          0.02, 0.2, 0.03, 0.3,\n",
       "                                                          0.04, 0.4],\n",
       "                                        'max_depth': [4, 5, 6, 7, 8, 9, 10, 11,\n",
       "                                                      12, 13, 14],\n",
       "                                        'min_child_weight': [1, 3, 5, 7, 9]},\n",
       "                   scoring='roc_auc', verbose=3)"
      ]
     },
     "execution_count": 21,
     "metadata": {},
     "output_type": "execute_result"
    }
   ],
   "source": [
    "model.fit(X, y)"
   ]
  },
  {
   "cell_type": "code",
   "execution_count": 22,
   "metadata": {},
   "outputs": [
    {
     "data": {
      "text/plain": [
       "{'min_child_weight': 5,\n",
       " 'max_depth': 8,\n",
       " 'learning_rate': 0.1,\n",
       " 'gamma': 0.0,\n",
       " 'colsample_bytree': 0.5}"
      ]
     },
     "execution_count": 22,
     "metadata": {},
     "output_type": "execute_result"
    }
   ],
   "source": [
    "model.best_params_"
   ]
  },
  {
   "cell_type": "code",
   "execution_count": 23,
   "metadata": {},
   "outputs": [
    {
     "data": {
      "text/plain": [
       "XGBClassifier(base_score=0.5, booster='gbtree', colsample_bylevel=1,\n",
       "              colsample_bynode=1, colsample_bytree=0.5, gamma=0.0, gpu_id=-1,\n",
       "              importance_type='gain', interaction_constraints='',\n",
       "              learning_rate=0.1, max_delta_step=0, max_depth=8,\n",
       "              min_child_weight=5, missing=nan, monotone_constraints='()',\n",
       "              n_estimators=100, n_jobs=0, num_parallel_tree=1, random_state=0,\n",
       "              reg_alpha=0, reg_lambda=1, scale_pos_weight=1, subsample=1,\n",
       "              tree_method='exact', validate_parameters=1, verbosity=None)"
      ]
     },
     "execution_count": 23,
     "metadata": {},
     "output_type": "execute_result"
    }
   ],
   "source": [
    "model.best_estimator_"
   ]
  },
  {
   "cell_type": "code",
   "execution_count": 24,
   "metadata": {},
   "outputs": [],
   "source": [
    "# Fit the model with the best parameters\n",
    "\n",
    "best_classifier = xgboost.XGBClassifier(base_score=0.5, booster='gbtree', colsample_bylevel=1,\n",
    "                              colsample_bynode=1, colsample_bytree=0.7, gamma=0.0, gpu_id=-1,\n",
    "                              importance_type='gain', interaction_constraints='',\n",
    "                              learning_rate=0.03, max_delta_step=0, max_depth=4,\n",
    "                              min_child_weight=5, monotone_constraints='()',\n",
    "                              n_estimators=100, n_jobs=0, num_parallel_tree=1, random_state=0,\n",
    "                              reg_alpha=0, reg_lambda=1, scale_pos_weight=1, subsample=1,\n",
    "                              tree_method='exact', validate_parameters=1, verbosity=None)"
   ]
  },
  {
   "cell_type": "code",
   "execution_count": 25,
   "metadata": {},
   "outputs": [
    {
     "name": "stdout",
     "output_type": "stream",
     "text": [
      "0.8612\n"
     ]
    }
   ],
   "source": [
    "score = cross_val_score(best_classifier, X, y, cv=10)\n",
    "score = np.mean(score)\n",
    "print(score)"
   ]
  },
  {
   "cell_type": "markdown",
   "metadata": {},
   "source": [
    "86.12% accuracy isn't that bad. But, let's see if Deep Learning can improve it."
   ]
  },
  {
   "cell_type": "markdown",
   "metadata": {},
   "source": [
    "### Deep Learning implementation "
   ]
  },
  {
   "cell_type": "code",
   "execution_count": 52,
   "metadata": {},
   "outputs": [],
   "source": [
    "from sklearn.model_selection import train_test_split\n",
    "from sklearn.preprocessing import StandardScaler\n",
    "from sklearn.metrics import accuracy_score\n",
    "\n",
    "import keras\n",
    "from keras.models import Sequential\n",
    "from keras.layers import Dense\n",
    "from keras.layers import Dropout"
   ]
  },
  {
   "cell_type": "code",
   "execution_count": 53,
   "metadata": {},
   "outputs": [],
   "source": [
    "X_train, X_test, y_train, y_test = train_test_split(X, y, test_size=0.2, random_state=0)\n",
    "\n",
    "# Standardize the features for faster convergence\n",
    "std_scaler = StandardScaler()\n",
    "X_train = std_scaler.fit_transform(X_train)\n",
    "X_test = std_scaler.transform(X_test)"
   ]
  },
  {
   "cell_type": "code",
   "execution_count": 54,
   "metadata": {},
   "outputs": [],
   "source": [
    "classifier = Sequential()\n",
    "\n",
    "# Add the input layer with dropout\n",
    "classifier.add(Dense(6, kernel_initializer='he_uniform', activation='relu', input_dim=11))\n",
    "classifier.add(Dropout(0.1))\n",
    "\n",
    "# Hidden layer with dropout\n",
    "classifier.add(Dense(6, kernel_initializer='he_uniform', activation='relu'))\n",
    "classifier.add(Dropout(0.1))\n",
    "\n",
    "# Output layer\n",
    "classifier.add(Dense(1, kernel_initializer = 'glorot_uniform', activation = 'sigmoid'))"
   ]
  },
  {
   "cell_type": "code",
   "execution_count": 40,
   "metadata": {},
   "outputs": [],
   "source": [
    "# Using accuracy as the metric and adam optimizer (Obviously)\n",
    "classifier.compile(optimizer='Adam', loss='binary_crossentropy', metrics=['accuracy'])"
   ]
  },
  {
   "cell_type": "code",
   "execution_count": 41,
   "metadata": {},
   "outputs": [
    {
     "name": "stdout",
     "output_type": "stream",
     "text": [
      "Epoch 1/100\n",
      "640/640 [==============================] - 1s 2ms/step - loss: 0.5530 - accuracy: 0.7856 - val_loss: 0.4888 - val_accuracy: 0.7969\n",
      "Epoch 2/100\n",
      "640/640 [==============================] - 1s 2ms/step - loss: 0.4904 - accuracy: 0.7931 - val_loss: 0.4620 - val_accuracy: 0.7969\n",
      "Epoch 3/100\n",
      "640/640 [==============================] - 1s 2ms/step - loss: 0.4649 - accuracy: 0.7956 - val_loss: 0.4493 - val_accuracy: 0.7969\n",
      "Epoch 4/100\n",
      "640/640 [==============================] - 1s 2ms/step - loss: 0.4576 - accuracy: 0.7944 - val_loss: 0.4424 - val_accuracy: 0.7969\n",
      "Epoch 5/100\n",
      "640/640 [==============================] - 1s 2ms/step - loss: 0.4516 - accuracy: 0.7952 - val_loss: 0.4388 - val_accuracy: 0.7969\n",
      "Epoch 6/100\n",
      "640/640 [==============================] - 1s 2ms/step - loss: 0.4490 - accuracy: 0.7955 - val_loss: 0.4366 - val_accuracy: 0.7969\n",
      "Epoch 7/100\n",
      "640/640 [==============================] - 1s 2ms/step - loss: 0.4408 - accuracy: 0.7958 - val_loss: 0.4353 - val_accuracy: 0.7969\n",
      "Epoch 8/100\n",
      "640/640 [==============================] - 1s 2ms/step - loss: 0.4410 - accuracy: 0.7953 - val_loss: 0.4342 - val_accuracy: 0.7969\n",
      "Epoch 9/100\n",
      "640/640 [==============================] - 1s 2ms/step - loss: 0.4412 - accuracy: 0.7953 - val_loss: 0.4339 - val_accuracy: 0.7969\n",
      "Epoch 10/100\n",
      "640/640 [==============================] - 1s 2ms/step - loss: 0.4382 - accuracy: 0.7958 - val_loss: 0.4326 - val_accuracy: 0.7969\n",
      "Epoch 11/100\n",
      "640/640 [==============================] - 1s 2ms/step - loss: 0.4357 - accuracy: 0.7961 - val_loss: 0.4324 - val_accuracy: 0.7969\n",
      "Epoch 12/100\n",
      "640/640 [==============================] - 1s 2ms/step - loss: 0.4415 - accuracy: 0.7959 - val_loss: 0.4312 - val_accuracy: 0.7969\n",
      "Epoch 13/100\n",
      "640/640 [==============================] - 1s 2ms/step - loss: 0.4390 - accuracy: 0.7958 - val_loss: 0.4303 - val_accuracy: 0.7969\n",
      "Epoch 14/100\n",
      "640/640 [==============================] - 1s 2ms/step - loss: 0.4347 - accuracy: 0.7962 - val_loss: 0.4284 - val_accuracy: 0.7969\n",
      "Epoch 15/100\n",
      "640/640 [==============================] - 1s 2ms/step - loss: 0.4372 - accuracy: 0.7970 - val_loss: 0.4238 - val_accuracy: 0.7981\n",
      "Epoch 16/100\n",
      "640/640 [==============================] - 1s 2ms/step - loss: 0.4288 - accuracy: 0.7992 - val_loss: 0.4186 - val_accuracy: 0.8006\n",
      "Epoch 17/100\n",
      "640/640 [==============================] - 1s 2ms/step - loss: 0.4252 - accuracy: 0.8044 - val_loss: 0.4139 - val_accuracy: 0.8044\n",
      "Epoch 18/100\n",
      "640/640 [==============================] - 1s 2ms/step - loss: 0.4234 - accuracy: 0.8050 - val_loss: 0.4065 - val_accuracy: 0.8138\n",
      "Epoch 19/100\n",
      "640/640 [==============================] - 1s 2ms/step - loss: 0.4198 - accuracy: 0.8069 - val_loss: 0.4033 - val_accuracy: 0.8138\n",
      "Epoch 20/100\n",
      "640/640 [==============================] - 1s 2ms/step - loss: 0.4147 - accuracy: 0.8119 - val_loss: 0.3997 - val_accuracy: 0.8138\n",
      "Epoch 21/100\n",
      "640/640 [==============================] - 1s 2ms/step - loss: 0.4123 - accuracy: 0.8128 - val_loss: 0.3980 - val_accuracy: 0.8156\n",
      "Epoch 22/100\n",
      "640/640 [==============================] - 1s 2ms/step - loss: 0.4111 - accuracy: 0.8125 - val_loss: 0.3980 - val_accuracy: 0.8138\n",
      "Epoch 23/100\n",
      "640/640 [==============================] - 1s 2ms/step - loss: 0.4032 - accuracy: 0.8144 - val_loss: 0.3957 - val_accuracy: 0.8144\n",
      "Epoch 24/100\n",
      "640/640 [==============================] - 1s 2ms/step - loss: 0.4062 - accuracy: 0.8150 - val_loss: 0.3924 - val_accuracy: 0.8156\n",
      "Epoch 25/100\n",
      "640/640 [==============================] - 1s 2ms/step - loss: 0.4037 - accuracy: 0.8125 - val_loss: 0.3955 - val_accuracy: 0.8144\n",
      "Epoch 26/100\n",
      "640/640 [==============================] - 1s 2ms/step - loss: 0.4074 - accuracy: 0.8139 - val_loss: 0.3902 - val_accuracy: 0.8156\n",
      "Epoch 27/100\n",
      "640/640 [==============================] - 1s 2ms/step - loss: 0.4086 - accuracy: 0.8144 - val_loss: 0.3935 - val_accuracy: 0.8150\n",
      "Epoch 28/100\n",
      "640/640 [==============================] - 1s 2ms/step - loss: 0.4039 - accuracy: 0.8145 - val_loss: 0.3906 - val_accuracy: 0.8163\n",
      "Epoch 29/100\n",
      "640/640 [==============================] - 1s 2ms/step - loss: 0.4040 - accuracy: 0.8144 - val_loss: 0.3884 - val_accuracy: 0.8169\n",
      "Epoch 30/100\n",
      "640/640 [==============================] - 1s 2ms/step - loss: 0.3975 - accuracy: 0.8161 - val_loss: 0.3900 - val_accuracy: 0.8163\n",
      "Epoch 31/100\n",
      "640/640 [==============================] - 1s 2ms/step - loss: 0.3951 - accuracy: 0.8169 - val_loss: 0.3913 - val_accuracy: 0.8131\n",
      "Epoch 32/100\n",
      "640/640 [==============================] - 1s 2ms/step - loss: 0.4032 - accuracy: 0.8148 - val_loss: 0.3884 - val_accuracy: 0.8169\n",
      "Epoch 33/100\n",
      "640/640 [==============================] - 1s 2ms/step - loss: 0.4003 - accuracy: 0.8150 - val_loss: 0.3876 - val_accuracy: 0.8169\n",
      "Epoch 34/100\n",
      "640/640 [==============================] - 1s 2ms/step - loss: 0.4010 - accuracy: 0.8145 - val_loss: 0.3846 - val_accuracy: 0.8181\n",
      "Epoch 35/100\n",
      "640/640 [==============================] - 1s 2ms/step - loss: 0.3987 - accuracy: 0.8148 - val_loss: 0.3883 - val_accuracy: 0.8156\n",
      "Epoch 36/100\n",
      "640/640 [==============================] - 1s 2ms/step - loss: 0.3962 - accuracy: 0.8152 - val_loss: 0.3877 - val_accuracy: 0.8156\n",
      "Epoch 37/100\n",
      "640/640 [==============================] - 1s 2ms/step - loss: 0.4050 - accuracy: 0.8125 - val_loss: 0.3855 - val_accuracy: 0.8163\n",
      "Epoch 38/100\n",
      "640/640 [==============================] - 1s 2ms/step - loss: 0.3981 - accuracy: 0.8155 - val_loss: 0.3836 - val_accuracy: 0.8175\n",
      "Epoch 39/100\n",
      "640/640 [==============================] - 1s 2ms/step - loss: 0.3943 - accuracy: 0.8155 - val_loss: 0.3847 - val_accuracy: 0.8163\n",
      "Epoch 40/100\n",
      "640/640 [==============================] - 1s 2ms/step - loss: 0.3973 - accuracy: 0.8153 - val_loss: 0.3827 - val_accuracy: 0.8175\n",
      "Epoch 41/100\n",
      "640/640 [==============================] - 1s 2ms/step - loss: 0.3994 - accuracy: 0.8134 - val_loss: 0.3826 - val_accuracy: 0.8175\n",
      "Epoch 42/100\n",
      "640/640 [==============================] - 1s 2ms/step - loss: 0.4055 - accuracy: 0.8141 - val_loss: 0.3869 - val_accuracy: 0.8138\n",
      "Epoch 43/100\n",
      "640/640 [==============================] - 1s 2ms/step - loss: 0.3895 - accuracy: 0.8166 - val_loss: 0.3801 - val_accuracy: 0.8175\n",
      "Epoch 44/100\n",
      "640/640 [==============================] - 1s 2ms/step - loss: 0.3961 - accuracy: 0.8163 - val_loss: 0.3827 - val_accuracy: 0.8150\n",
      "Epoch 45/100\n",
      "640/640 [==============================] - 1s 2ms/step - loss: 0.3948 - accuracy: 0.8156 - val_loss: 0.3838 - val_accuracy: 0.8144\n",
      "Epoch 46/100\n",
      "640/640 [==============================] - 1s 2ms/step - loss: 0.3896 - accuracy: 0.8166 - val_loss: 0.3807 - val_accuracy: 0.8163\n",
      "Epoch 47/100\n",
      "640/640 [==============================] - 1s 2ms/step - loss: 0.4012 - accuracy: 0.8145 - val_loss: 0.3805 - val_accuracy: 0.8169\n",
      "Epoch 48/100\n",
      "640/640 [==============================] - 1s 2ms/step - loss: 0.3977 - accuracy: 0.8148 - val_loss: 0.3805 - val_accuracy: 0.8169\n",
      "Epoch 49/100\n",
      "640/640 [==============================] - 1s 2ms/step - loss: 0.3976 - accuracy: 0.8167 - val_loss: 0.3784 - val_accuracy: 0.8169\n",
      "Epoch 50/100\n",
      "640/640 [==============================] - 1s 2ms/step - loss: 0.3945 - accuracy: 0.8155 - val_loss: 0.3790 - val_accuracy: 0.8169\n",
      "Epoch 51/100\n",
      "640/640 [==============================] - 1s 2ms/step - loss: 0.3946 - accuracy: 0.8155 - val_loss: 0.3818 - val_accuracy: 0.8138\n",
      "Epoch 52/100\n",
      "640/640 [==============================] - 1s 2ms/step - loss: 0.3930 - accuracy: 0.8161 - val_loss: 0.3788 - val_accuracy: 0.8156\n",
      "Epoch 53/100\n",
      "640/640 [==============================] - 1s 2ms/step - loss: 0.3937 - accuracy: 0.8145 - val_loss: 0.3770 - val_accuracy: 0.8169\n",
      "Epoch 54/100\n",
      "640/640 [==============================] - 1s 2ms/step - loss: 0.3944 - accuracy: 0.8155 - val_loss: 0.3804 - val_accuracy: 0.8138\n",
      "Epoch 55/100\n",
      "640/640 [==============================] - 1s 2ms/step - loss: 0.3928 - accuracy: 0.8147 - val_loss: 0.3787 - val_accuracy: 0.8156\n",
      "Epoch 56/100\n",
      "640/640 [==============================] - 1s 2ms/step - loss: 0.3927 - accuracy: 0.8147 - val_loss: 0.3785 - val_accuracy: 0.8163\n",
      "Epoch 57/100\n",
      "640/640 [==============================] - 1s 2ms/step - loss: 0.3968 - accuracy: 0.8142 - val_loss: 0.3803 - val_accuracy: 0.8150\n"
     ]
    },
    {
     "name": "stdout",
     "output_type": "stream",
     "text": [
      "Epoch 58/100\n",
      "640/640 [==============================] - 1s 2ms/step - loss: 0.3999 - accuracy: 0.8134 - val_loss: 0.3834 - val_accuracy: 0.8144\n",
      "Epoch 59/100\n",
      "640/640 [==============================] - 1s 2ms/step - loss: 0.3996 - accuracy: 0.8134 - val_loss: 0.3801 - val_accuracy: 0.8150\n",
      "Epoch 60/100\n",
      "640/640 [==============================] - 1s 2ms/step - loss: 0.3919 - accuracy: 0.8148 - val_loss: 0.3797 - val_accuracy: 0.8144\n",
      "Epoch 61/100\n",
      "640/640 [==============================] - 1s 2ms/step - loss: 0.3963 - accuracy: 0.8152 - val_loss: 0.3761 - val_accuracy: 0.8175\n",
      "Epoch 62/100\n",
      "640/640 [==============================] - 1s 2ms/step - loss: 0.3957 - accuracy: 0.8142 - val_loss: 0.3798 - val_accuracy: 0.8138\n",
      "Epoch 63/100\n",
      "640/640 [==============================] - 1s 2ms/step - loss: 0.3946 - accuracy: 0.8156 - val_loss: 0.3785 - val_accuracy: 0.8144\n",
      "Epoch 64/100\n",
      "640/640 [==============================] - 1s 2ms/step - loss: 0.3940 - accuracy: 0.8141 - val_loss: 0.3758 - val_accuracy: 0.8163\n",
      "Epoch 65/100\n",
      "640/640 [==============================] - 1s 2ms/step - loss: 0.3987 - accuracy: 0.8152 - val_loss: 0.3787 - val_accuracy: 0.8156\n",
      "Epoch 66/100\n",
      "640/640 [==============================] - 1s 2ms/step - loss: 0.3930 - accuracy: 0.8145 - val_loss: 0.3771 - val_accuracy: 0.8150\n",
      "Epoch 67/100\n",
      "640/640 [==============================] - 1s 2ms/step - loss: 0.3979 - accuracy: 0.8139 - val_loss: 0.3804 - val_accuracy: 0.8150\n",
      "Epoch 68/100\n",
      "640/640 [==============================] - 1s 2ms/step - loss: 0.3963 - accuracy: 0.8142 - val_loss: 0.3775 - val_accuracy: 0.8156\n",
      "Epoch 69/100\n",
      "640/640 [==============================] - 1s 2ms/step - loss: 0.3922 - accuracy: 0.8161 - val_loss: 0.3759 - val_accuracy: 0.8156\n",
      "Epoch 70/100\n",
      "640/640 [==============================] - 1s 2ms/step - loss: 0.3957 - accuracy: 0.8153 - val_loss: 0.3759 - val_accuracy: 0.8163\n",
      "Epoch 71/100\n",
      "640/640 [==============================] - 1s 2ms/step - loss: 0.3958 - accuracy: 0.8138 - val_loss: 0.3801 - val_accuracy: 0.8156\n",
      "Epoch 72/100\n",
      "640/640 [==============================] - 1s 2ms/step - loss: 0.3925 - accuracy: 0.8156 - val_loss: 0.3821 - val_accuracy: 0.8138\n",
      "Epoch 73/100\n",
      "640/640 [==============================] - 1s 2ms/step - loss: 0.3948 - accuracy: 0.8148 - val_loss: 0.3750 - val_accuracy: 0.8169\n",
      "Epoch 74/100\n",
      "640/640 [==============================] - 1s 2ms/step - loss: 0.3934 - accuracy: 0.8153 - val_loss: 0.3780 - val_accuracy: 0.8156\n",
      "Epoch 75/100\n",
      "640/640 [==============================] - 1s 2ms/step - loss: 0.3961 - accuracy: 0.8138 - val_loss: 0.3753 - val_accuracy: 0.8163\n",
      "Epoch 76/100\n",
      "640/640 [==============================] - 1s 2ms/step - loss: 0.3901 - accuracy: 0.8172 - val_loss: 0.3783 - val_accuracy: 0.8150\n",
      "Epoch 77/100\n",
      "640/640 [==============================] - 1s 2ms/step - loss: 0.3954 - accuracy: 0.8148 - val_loss: 0.3756 - val_accuracy: 0.8156\n",
      "Epoch 78/100\n",
      "640/640 [==============================] - 1s 2ms/step - loss: 0.3923 - accuracy: 0.8155 - val_loss: 0.3748 - val_accuracy: 0.8163\n",
      "Epoch 79/100\n",
      "640/640 [==============================] - 1s 2ms/step - loss: 0.3922 - accuracy: 0.8147 - val_loss: 0.3770 - val_accuracy: 0.8156\n",
      "Epoch 80/100\n",
      "640/640 [==============================] - 1s 2ms/step - loss: 0.3904 - accuracy: 0.8167 - val_loss: 0.3777 - val_accuracy: 0.8144\n",
      "Epoch 81/100\n",
      "640/640 [==============================] - 1s 2ms/step - loss: 0.3879 - accuracy: 0.8172 - val_loss: 0.3750 - val_accuracy: 0.8163\n",
      "Epoch 82/100\n",
      "640/640 [==============================] - 1s 2ms/step - loss: 0.3941 - accuracy: 0.8209 - val_loss: 0.3770 - val_accuracy: 0.8494\n",
      "Epoch 83/100\n",
      "640/640 [==============================] - 1s 2ms/step - loss: 0.3904 - accuracy: 0.8286 - val_loss: 0.3736 - val_accuracy: 0.8487\n",
      "Epoch 84/100\n",
      "640/640 [==============================] - 1s 2ms/step - loss: 0.3908 - accuracy: 0.8263 - val_loss: 0.3754 - val_accuracy: 0.8500\n",
      "Epoch 85/100\n",
      "640/640 [==============================] - 1s 2ms/step - loss: 0.3933 - accuracy: 0.8375 - val_loss: 0.3749 - val_accuracy: 0.8363\n",
      "Epoch 86/100\n",
      "640/640 [==============================] - 1s 2ms/step - loss: 0.3896 - accuracy: 0.8363 - val_loss: 0.3769 - val_accuracy: 0.8475\n",
      "Epoch 87/100\n",
      "640/640 [==============================] - 1s 2ms/step - loss: 0.3903 - accuracy: 0.8416 - val_loss: 0.3739 - val_accuracy: 0.8475\n",
      "Epoch 88/100\n",
      "640/640 [==============================] - 1s 2ms/step - loss: 0.3920 - accuracy: 0.8422 - val_loss: 0.3764 - val_accuracy: 0.8469\n",
      "Epoch 89/100\n",
      "640/640 [==============================] - 1s 2ms/step - loss: 0.3902 - accuracy: 0.8431 - val_loss: 0.3750 - val_accuracy: 0.8475\n",
      "Epoch 90/100\n",
      "640/640 [==============================] - 1s 2ms/step - loss: 0.3896 - accuracy: 0.8388 - val_loss: 0.3781 - val_accuracy: 0.8462\n",
      "Epoch 91/100\n",
      "640/640 [==============================] - 1s 2ms/step - loss: 0.3943 - accuracy: 0.8420 - val_loss: 0.3770 - val_accuracy: 0.8462\n",
      "Epoch 92/100\n",
      "640/640 [==============================] - 1s 2ms/step - loss: 0.3967 - accuracy: 0.8341 - val_loss: 0.3748 - val_accuracy: 0.8500\n",
      "Epoch 93/100\n",
      "640/640 [==============================] - 1s 2ms/step - loss: 0.3986 - accuracy: 0.8403 - val_loss: 0.3775 - val_accuracy: 0.8456\n",
      "Epoch 94/100\n",
      "640/640 [==============================] - 1s 2ms/step - loss: 0.3892 - accuracy: 0.8356 - val_loss: 0.3789 - val_accuracy: 0.8500\n",
      "Epoch 95/100\n",
      "640/640 [==============================] - 1s 2ms/step - loss: 0.3947 - accuracy: 0.8388 - val_loss: 0.3771 - val_accuracy: 0.8444\n",
      "Epoch 96/100\n",
      "640/640 [==============================] - 1s 2ms/step - loss: 0.3848 - accuracy: 0.8436 - val_loss: 0.3730 - val_accuracy: 0.8487\n",
      "Epoch 97/100\n",
      "640/640 [==============================] - 1s 2ms/step - loss: 0.3939 - accuracy: 0.8416 - val_loss: 0.3741 - val_accuracy: 0.8475\n",
      "Epoch 98/100\n",
      "640/640 [==============================] - 1s 2ms/step - loss: 0.3946 - accuracy: 0.8402 - val_loss: 0.3744 - val_accuracy: 0.8487\n",
      "Epoch 99/100\n",
      "640/640 [==============================] - 1s 2ms/step - loss: 0.3924 - accuracy: 0.8398 - val_loss: 0.3738 - val_accuracy: 0.8363\n",
      "Epoch 100/100\n",
      "640/640 [==============================] - 1s 2ms/step - loss: 0.3930 - accuracy: 0.8364 - val_loss: 0.3740 - val_accuracy: 0.8494\n"
     ]
    }
   ],
   "source": [
    "model_history = classifier.fit(X_train, y_train, validation_split=0.20, batch_size = 10, epochs = 100)"
   ]
  },
  {
   "cell_type": "code",
   "execution_count": 44,
   "metadata": {},
   "outputs": [],
   "source": [
    "def plot_results(acc_or_loss):\n",
    "    metric = acc_or_loss\n",
    "    val_metric = 'val_'+metric\n",
    "    plt.figure(figsize=(10,7))\n",
    "    plt.plot(model_history.history[metric], label='train')\n",
    "    plt.plot(model_history.history[val_metric], label='test')\n",
    "    plt.title('Model {}'.format(metric))\n",
    "    plt.xlabel('epoch')\n",
    "    plt.ylabel('{}'.format(metric))\n",
    "    plt.legend()"
   ]
  },
  {
   "cell_type": "code",
   "execution_count": 45,
   "metadata": {},
   "outputs": [
    {
     "data": {
      "image/png": "[encoded data removed]",
      "text/plain": [
       "<Figure size 720x504 with 1 Axes>"
      ]
     },
     "metadata": {
      "needs_background": "light"
     },
     "output_type": "display_data"
    }
   ],
   "source": [
    "plot_results('accuracy')"
   ]
  },
  {
   "cell_type": "code",
   "execution_count": 46,
   "metadata": {},
   "outputs": [
    {
     "data": {
      "image/png": "[encoded data removed]",
      "text/plain": [
       "<Figure size 720x504 with 1 Axes>"
      ]
     },
     "metadata": {
      "needs_background": "light"
     },
     "output_type": "display_data"
    }
   ],
   "source": [
    "plot_results('loss')"
   ]
  },
  {
   "cell_type": "code",
   "execution_count": 47,
   "metadata": {},
   "outputs": [],
   "source": [
    "y_pred = classifier.predict(X_test)"
   ]
  },
  {
   "cell_type": "code",
   "execution_count": 48,
   "metadata": {},
   "outputs": [],
   "source": [
    "y_pred = (y_pred > 0.5)"
   ]
  },
  {
   "cell_type": "code",
   "execution_count": 50,
   "metadata": {},
   "outputs": [
    {
     "name": "stdout",
     "output_type": "stream",
     "text": [
      "0.8635\n"
     ]
    }
   ],
   "source": [
    "print(accuracy_score(y_test, y_pred))"
   ]
  },
  {
   "cell_type": "markdown",
   "metadata": {},
   "source": [
    "A slightly better prediction than the XGBoost, but not significant"
   ]
  },
  {
   "cell_type": "markdown",
   "metadata": {},
   "source": [
    "### Let's tune the hyperparameters using keras-tuner and check if accuracy can be improved further"
   ]
  },
  {
   "cell_type": "code",
   "execution_count": 96,
   "metadata": {},
   "outputs": [],
   "source": [
    "from tensorflow import keras\n",
    "from tensorflow.keras import layers\n",
    "from kerastuner.tuners import RandomSearch"
   ]
  },
  {
   "cell_type": "code",
   "execution_count": 97,
   "metadata": {},
   "outputs": [],
   "source": [
    "def build_model(hp):\n",
    "    model = keras.Sequential()\n",
    "    for i in range(hp.Int('no of layers', 2, 12)):\n",
    "        model.add(layers.Dense(units=hp.Int('units_' +str(i),\n",
    "                                            min_value=6,\n",
    "                                           max_value=64,\n",
    "                                           step=32),\n",
    "                              activation='relu'))\n",
    "        model.add(layers.Dense(1, activation='sigmoid'))\n",
    "        model.compile(\n",
    "            optimizer=keras.optimizers.Adam(\n",
    "            hp.Choice('learning_rate', [1e-1, 1e-2, 1e-3, 2e-2, 2e-1, 2e-3, 3e-2, 3e-1, 4e-2, 4e-1])),\n",
    "            loss='binary_crossentropy',\n",
    "            metrics=['accuracy'])\n",
    "    return model"
   ]
  },
  {
   "cell_type": "code",
   "execution_count": 98,
   "metadata": {},
   "outputs": [],
   "source": [
    "tuner = RandomSearch(\n",
    "    build_model,\n",
    "    objective='val_accuracy',\n",
    "    max_trials=5,\n",
    "    executions_per_trial=3,\n",
    "    directory='personal',\n",
    "    project_name='ChurnPrediction')"
   ]
  },
  {
   "cell_type": "code",
   "execution_count": 99,
   "metadata": {},
   "outputs": [
    {
     "name": "stdout",
     "output_type": "stream",
     "text": [
      "Search space summary\n",
      "Default search space size: 4\n",
      "no of layers (Int)\n",
      "{'default': None, 'conditions': [], 'min_value': 2, 'max_value': 12, 'step': 1, 'sampling': None}\n",
      "units_0 (Int)\n",
      "{'default': None, 'conditions': [], 'min_value': 6, 'max_value': 64, 'step': 32, 'sampling': None}\n",
      "learning_rate (Choice)\n",
      "{'default': 0.1, 'conditions': [], 'values': [0.1, 0.01, 0.001, 0.02, 0.2, 0.002, 0.03, 0.3, 0.04, 0.4], 'ordered': True}\n",
      "units_1 (Int)\n",
      "{'default': None, 'conditions': [], 'min_value': 6, 'max_value': 64, 'step': 32, 'sampling': None}\n"
     ]
    }
   ],
   "source": [
    "tuner.search_space_summary()"
   ]
  },
  {
   "cell_type": "code",
   "execution_count": 100,
   "metadata": {},
   "outputs": [
    {
     "name": "stdout",
     "output_type": "stream",
     "text": [
      "Trial 5 Complete [00h 00m 11s]\n",
      "val_accuracy: 0.7975000143051147\n",
      "\n",
      "Best val_accuracy So Far: 0.8338333368301392\n",
      "Total elapsed time: 00h 01m 05s\n",
      "INFO:tensorflow:Oracle triggered exit\n"
     ]
    }
   ],
   "source": [
    "tuner.search(X_train, y_train,\n",
    "             epochs=5,\n",
    "             validation_data=(X_test, y_test))"
   ]
  },
  {
   "cell_type": "code",
   "execution_count": 101,
   "metadata": {},
   "outputs": [],
   "source": [
    "best_hps = tuner.get_best_hyperparameters(num_trials = 1)[0]"
   ]
  },
  {
   "cell_type": "code",
   "execution_count": 102,
   "metadata": {},
   "outputs": [
    {
     "name": "stdout",
     "output_type": "stream",
     "text": [
      "Epoch 1/5\n",
      "250/250 [==============================] - 1s 3ms/step - loss: 0.4851 - accuracy: 0.7905 - val_loss: 0.4248 - val_accuracy: 0.7975\n",
      "Epoch 2/5\n",
      "250/250 [==============================] - 1s 2ms/step - loss: 0.4081 - accuracy: 0.7964 - val_loss: 0.3975 - val_accuracy: 0.7975\n",
      "Epoch 3/5\n",
      "250/250 [==============================] - 1s 2ms/step - loss: 0.3960 - accuracy: 0.8240 - val_loss: 0.3716 - val_accuracy: 0.8525\n",
      "Epoch 4/5\n",
      "250/250 [==============================] - 1s 2ms/step - loss: 0.3782 - accuracy: 0.8524 - val_loss: 0.3986 - val_accuracy: 0.8100\n",
      "Epoch 5/5\n",
      "250/250 [==============================] - 1s 2ms/step - loss: 0.3726 - accuracy: 0.8472 - val_loss: 0.3794 - val_accuracy: 0.8300\n"
     ]
    },
    {
     "data": {
      "text/plain": [
       "<tensorflow.python.keras.callbacks.History at 0x2170ffd6d60>"
      ]
     },
     "execution_count": 102,
     "metadata": {},
     "output_type": "execute_result"
    }
   ],
   "source": [
    "model = tuner.hypermodel.build(best_hps)\n",
    "model.fit(X_train, y_train, epochs = 5, validation_data = (X_test, y_test))"
   ]
  },
  {
   "cell_type": "markdown",
   "metadata": {},
   "source": [
    "Nope, looks like XGBoost is the most efficient one yet giving good results."
   ]
  }
 ],
 "metadata": {
  "kernelspec": {
   "display_name": "Python 3",
   "language": "python",
   "name": "python3"
  },
  "language_info": {
   "codemirror_mode": {
    "name": "ipython",
    "version": 3
   },
   "file_extension": ".py",
   "mimetype": "text/x-python",
   "name": "python",
   "nbconvert_exporter": "python",
   "pygments_lexer": "ipython3",
   "version": "3.8.5"
  }
 },
 "nbformat": 4,
 "nbformat_minor": 4
}
